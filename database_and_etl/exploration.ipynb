{
 "cells": [
  {
   "cell_type": "code",
   "execution_count": 1,
   "id": "78a96f6c",
   "metadata": {},
   "outputs": [],
   "source": [
    "import pandas as pd"
   ]
  },
  {
   "cell_type": "code",
   "execution_count": 2,
   "id": "d107e36f",
   "metadata": {},
   "outputs": [],
   "source": [
    "raw_data_filename = 'rawdata/DEM_Challenge_Section1_DATASET.xlsx'"
   ]
  },
  {
   "cell_type": "code",
   "execution_count": 36,
   "id": "664cd400",
   "metadata": {},
   "outputs": [],
   "source": [
    "df = pd.read_excel(raw_data_filename)"
   ]
  },
  {
   "cell_type": "code",
   "execution_count": 4,
   "id": "2c7ce207",
   "metadata": {},
   "outputs": [
    {
     "data": {
      "text/html": [
       "<div>\n",
       "<style scoped>\n",
       "    .dataframe tbody tr th:only-of-type {\n",
       "        vertical-align: middle;\n",
       "    }\n",
       "\n",
       "    .dataframe tbody tr th {\n",
       "        vertical-align: top;\n",
       "    }\n",
       "\n",
       "    .dataframe thead th {\n",
       "        text-align: right;\n",
       "    }\n",
       "</style>\n",
       "<table border=\"1\" class=\"dataframe\">\n",
       "  <thead>\n",
       "    <tr style=\"text-align: right;\">\n",
       "      <th></th>\n",
       "      <th>id</th>\n",
       "      <th>first_name</th>\n",
       "      <th>last_name</th>\n",
       "      <th>email</th>\n",
       "      <th>gender</th>\n",
       "      <th>ip_address</th>\n",
       "    </tr>\n",
       "  </thead>\n",
       "  <tbody>\n",
       "    <tr>\n",
       "      <th>0</th>\n",
       "      <td>1</td>\n",
       "      <td>Margaretta</td>\n",
       "      <td>Laughtisse</td>\n",
       "      <td>mlaughtisse0@mediafire.com</td>\n",
       "      <td>Genderfluid</td>\n",
       "      <td>34.148.232.131</td>\n",
       "    </tr>\n",
       "    <tr>\n",
       "      <th>1</th>\n",
       "      <td>2</td>\n",
       "      <td>Vally</td>\n",
       "      <td>Garment</td>\n",
       "      <td>vgarment1@wisc.edu</td>\n",
       "      <td>Bigender</td>\n",
       "      <td>15.158.123.36</td>\n",
       "    </tr>\n",
       "    <tr>\n",
       "      <th>2</th>\n",
       "      <td>3</td>\n",
       "      <td>Tessa</td>\n",
       "      <td>Curee</td>\n",
       "      <td>tcuree2@php.net</td>\n",
       "      <td>Bigender</td>\n",
       "      <td>132.209.143.225</td>\n",
       "    </tr>\n",
       "    <tr>\n",
       "      <th>3</th>\n",
       "      <td>4</td>\n",
       "      <td>Arman</td>\n",
       "      <td>Heineking</td>\n",
       "      <td>aheineking3@tuttocitta.it</td>\n",
       "      <td>Male</td>\n",
       "      <td>157.110.61.233</td>\n",
       "    </tr>\n",
       "    <tr>\n",
       "      <th>4</th>\n",
       "      <td>5</td>\n",
       "      <td>Roselia</td>\n",
       "      <td>Trustie</td>\n",
       "      <td>rtrustie4@ft.com</td>\n",
       "      <td>Non-binary</td>\n",
       "      <td>49.55.218.81</td>\n",
       "    </tr>\n",
       "  </tbody>\n",
       "</table>\n",
       "</div>"
      ],
      "text/plain": [
       "   id  first_name   last_name                       email       gender  \\\n",
       "0   1  Margaretta  Laughtisse  mlaughtisse0@mediafire.com  Genderfluid   \n",
       "1   2       Vally     Garment          vgarment1@wisc.edu     Bigender   \n",
       "2   3       Tessa       Curee             tcuree2@php.net     Bigender   \n",
       "3   4       Arman   Heineking   aheineking3@tuttocitta.it         Male   \n",
       "4   5     Roselia     Trustie            rtrustie4@ft.com   Non-binary   \n",
       "\n",
       "        ip_address  \n",
       "0   34.148.232.131  \n",
       "1    15.158.123.36  \n",
       "2  132.209.143.225  \n",
       "3   157.110.61.233  \n",
       "4     49.55.218.81  "
      ]
     },
     "execution_count": 4,
     "metadata": {},
     "output_type": "execute_result"
    }
   ],
   "source": [
    "df.head()"
   ]
  },
  {
   "cell_type": "code",
   "execution_count": 37,
   "id": "e580f467-79ad-42fd-9fc8-c6e3391c6cd9",
   "metadata": {},
   "outputs": [
    {
     "data": {
      "text/html": [
       "<div>\n",
       "<style scoped>\n",
       "    .dataframe tbody tr th:only-of-type {\n",
       "        vertical-align: middle;\n",
       "    }\n",
       "\n",
       "    .dataframe tbody tr th {\n",
       "        vertical-align: top;\n",
       "    }\n",
       "\n",
       "    .dataframe thead th {\n",
       "        text-align: right;\n",
       "    }\n",
       "</style>\n",
       "<table border=\"1\" class=\"dataframe\">\n",
       "  <thead>\n",
       "    <tr style=\"text-align: right;\">\n",
       "      <th></th>\n",
       "      <th>count</th>\n",
       "      <th>nunique</th>\n",
       "    </tr>\n",
       "  </thead>\n",
       "  <tbody>\n",
       "    <tr>\n",
       "      <th>id</th>\n",
       "      <td>1000</td>\n",
       "      <td>1000</td>\n",
       "    </tr>\n",
       "    <tr>\n",
       "      <th>first_name</th>\n",
       "      <td>1000</td>\n",
       "      <td>947</td>\n",
       "    </tr>\n",
       "    <tr>\n",
       "      <th>last_name</th>\n",
       "      <td>1000</td>\n",
       "      <td>989</td>\n",
       "    </tr>\n",
       "    <tr>\n",
       "      <th>email</th>\n",
       "      <td>1000</td>\n",
       "      <td>1000</td>\n",
       "    </tr>\n",
       "    <tr>\n",
       "      <th>gender</th>\n",
       "      <td>1000</td>\n",
       "      <td>8</td>\n",
       "    </tr>\n",
       "    <tr>\n",
       "      <th>ip_address</th>\n",
       "      <td>1000</td>\n",
       "      <td>1000</td>\n",
       "    </tr>\n",
       "  </tbody>\n",
       "</table>\n",
       "</div>"
      ],
      "text/plain": [
       "            count  nunique\n",
       "id           1000     1000\n",
       "first_name   1000      947\n",
       "last_name    1000      989\n",
       "email        1000     1000\n",
       "gender       1000        8\n",
       "ip_address   1000     1000"
      ]
     },
     "execution_count": 37,
     "metadata": {},
     "output_type": "execute_result"
    }
   ],
   "source": [
    "# df.describe(include='all')\n",
    "pd.DataFrame({'count': df.count(), 'nunique': df.nunique()})"
   ]
  },
  {
   "cell_type": "code",
   "execution_count": 39,
   "id": "0b1d961b-5c7b-46a9-ae4a-b3c443f507d7",
   "metadata": {},
   "outputs": [
    {
     "data": {
      "text/html": [
       "<div>\n",
       "<style scoped>\n",
       "    .dataframe tbody tr th:only-of-type {\n",
       "        vertical-align: middle;\n",
       "    }\n",
       "\n",
       "    .dataframe tbody tr th {\n",
       "        vertical-align: top;\n",
       "    }\n",
       "\n",
       "    .dataframe thead th {\n",
       "        text-align: right;\n",
       "    }\n",
       "</style>\n",
       "<table border=\"1\" class=\"dataframe\">\n",
       "  <thead>\n",
       "    <tr style=\"text-align: right;\">\n",
       "      <th></th>\n",
       "      <th>count</th>\n",
       "      <th>nunique</th>\n",
       "    </tr>\n",
       "  </thead>\n",
       "  <tbody>\n",
       "    <tr>\n",
       "      <th>id</th>\n",
       "      <td>1000</td>\n",
       "      <td>1000</td>\n",
       "    </tr>\n",
       "    <tr>\n",
       "      <th>first_name</th>\n",
       "      <td>1000</td>\n",
       "      <td>947</td>\n",
       "    </tr>\n",
       "    <tr>\n",
       "      <th>last_name</th>\n",
       "      <td>1000</td>\n",
       "      <td>989</td>\n",
       "    </tr>\n",
       "    <tr>\n",
       "      <th>email</th>\n",
       "      <td>1000</td>\n",
       "      <td>1000</td>\n",
       "    </tr>\n",
       "    <tr>\n",
       "      <th>gender</th>\n",
       "      <td>1000</td>\n",
       "      <td>8</td>\n",
       "    </tr>\n",
       "    <tr>\n",
       "      <th>ip_address</th>\n",
       "      <td>1000</td>\n",
       "      <td>1000</td>\n",
       "    </tr>\n",
       "  </tbody>\n",
       "</table>\n",
       "</div>"
      ],
      "text/plain": [
       "            count  nunique\n",
       "id           1000     1000\n",
       "first_name   1000      947\n",
       "last_name    1000      989\n",
       "email        1000     1000\n",
       "gender       1000        8\n",
       "ip_address   1000     1000"
      ]
     },
     "execution_count": 39,
     "metadata": {},
     "output_type": "execute_result"
    }
   ],
   "source": [
    "# Cleaning Data\n",
    "# Trim whitespace and standardize case\n",
    "df['first_name'] = df['first_name'].str.strip()\n",
    "df['last_name'] = df['last_name'].str.strip()\n",
    "df['email'] = df['email'].str.strip().str.lower()\n",
    "df['gender'] = df['gender'].str.strip().str.lower()\n",
    "df['ip_address'] = df['ip_address'].str.strip()\n",
    "\n",
    "pd.DataFrame({'count': df.count(), 'nunique': df.nunique()})"
   ]
  },
  {
   "cell_type": "code",
   "execution_count": 31,
   "id": "2c7cf961-8077-4092-bca9-303a628b2c80",
   "metadata": {},
   "outputs": [
    {
     "name": "stdout",
     "output_type": "stream",
     "text": [
      "email:\n",
      "Empty DataFrame\n",
      "Columns: [id, first_name, last_name, email, gender, ip_address]\n",
      "Index: []\n"
     ]
    }
   ],
   "source": [
    "# 3. Detect invalid emails\n",
    "# Simple regex-based validation for email format\n",
    "invalid_emails = df[~df['email'].str.contains(r'^[A-Za-z0-9._%+-]+@[A-Za-z0-9.-]+\\.[A-Za-z]{2,}$', na=False)]\n",
    "print(\"email:\")\n",
    "print(invalid_emails)"
   ]
  },
  {
   "cell_type": "code",
   "execution_count": 33,
   "id": "85a05c87-96b1-4010-94f2-f7b4805051fc",
   "metadata": {},
   "outputs": [
    {
     "name": "stdout",
     "output_type": "stream",
     "text": [
      "Duplicate IP Addresses:\n",
      "Empty DataFrame\n",
      "Columns: [id, first_name, last_name, email, gender, ip_address]\n",
      "Index: []\n"
     ]
    }
   ],
   "source": [
    "# 4. Check for unique IP addresses\n",
    "duplicate_ips = df[df.duplicated('ip_address', keep=False)]\n",
    "print(\"Duplicate IP Addresses:\")\n",
    "print(duplicate_ips)"
   ]
  },
  {
   "cell_type": "code",
   "execution_count": 43,
   "id": "48626ddf-f5a1-4847-9410-29e614a644b8",
   "metadata": {},
   "outputs": [
    {
     "name": "stdout",
     "output_type": "stream",
     "text": [
      "gender\n",
      "genderfluid    140\n",
      "female         131\n",
      "genderqueer    130\n",
      "male           129\n",
      "agender        120\n",
      "bigender       119\n",
      "polygender     118\n",
      "non-binary     113\n",
      "Name: count, dtype: int64\n"
     ]
    }
   ],
   "source": [
    "print(df['gender'].value_counts())"
   ]
  },
  {
   "cell_type": "code",
   "execution_count": 34,
   "id": "a411163c-3139-4c6b-a24b-a426b82af59a",
   "metadata": {},
   "outputs": [
    {
     "name": "stdout",
     "output_type": "stream",
     "text": [
      "Standardized Gender Identity:\n",
      "gender\n",
      "Other     740\n",
      "Female    131\n",
      "Male      129\n",
      "Name: count, dtype: int64\n"
     ]
    }
   ],
   "source": [
    "# 5. Standardize Gender Identity\n",
    "df['gender'] = df['gender'].str.lower().map({\n",
    "    'male': 'Male',\n",
    "    'female': 'Female',\n",
    "    'non-binary': 'Non-Binary',\n",
    "}).fillna('Other')\n",
    "print(\"Standardized Gender Identity:\")\n",
    "print(df['gender'].value_counts())"
   ]
  },
  {
   "cell_type": "code",
   "execution_count": 46,
   "id": "6d529935-b377-403a-8d84-7a757ad7a1ea",
   "metadata": {},
   "outputs": [
    {
     "name": "stdout",
     "output_type": "stream",
     "text": [
      "Invalid IP Addresses:\n",
      "Empty DataFrame\n",
      "Columns: [id, first_name, last_name, email, gender, ip_address]\n",
      "Index: []\n"
     ]
    }
   ],
   "source": [
    "import re\n",
    "def is_valid_ip(ip):\n",
    "    pattern = r'^(\\d{1,3}\\.){3}\\d{1,3}$'\n",
    "    match = re.match(pattern, ip)\n",
    "    if match:\n",
    "        parts = ip.split('.')\n",
    "        return all(0 <= int(part) <= 255 for part in parts)\n",
    "    return False\n",
    "\n",
    "valid_ips = df['ip_address'].apply(is_valid_ip)\n",
    "invalid_ips = df[~valid_ips]\n",
    "print(\"Invalid IP Addresses:\")\n",
    "print(invalid_ips)"
   ]
  },
  {
   "cell_type": "code",
   "execution_count": 50,
   "id": "26309fa6-2272-4a06-a5a0-9493e59501bf",
   "metadata": {},
   "outputs": [
    {
     "name": "stdout",
     "output_type": "stream",
     "text": [
      "Similar Full Names:\n"
     ]
    }
   ],
   "source": [
    "# 8. Fuzzy Matching for similar full names (First name + Last name)\n",
    "from fuzzywuzzy import fuzz, process\n",
    "def find_similar_full_names(threshold=85):\n",
    "    df['Full Name'] = df['first_name'] + ' ' + df['last_name']\n",
    "    results = []\n",
    "    for name in df['Full Name']:\n",
    "        matches = process.extract(name, df['Full Name'], scorer=fuzz.token_sort_ratio)\n",
    "        for match in matches:\n",
    "            if match[1] >= threshold and match[0] != name:\n",
    "                results.append((name, match[0], match[1]))\n",
    "    return results\n",
    "\n",
    "similar_full_names = find_similar_full_names()\n",
    "print(\"Similar Full Names:\")\n",
    "for name1, name2, score in similar_full_names:\n",
    "    print(f\"{name1} <--> {name2} (Score: {score})\")"
   ]
  },
  {
   "cell_type": "code",
   "execution_count": 53,
   "id": "863f9ec8-5f15-4563-b8a7-ba76c1d7f9ad",
   "metadata": {},
   "outputs": [
    {
     "data": {
      "text/plain": [
       "Index(['id', 'first_name', 'last_name', 'email', 'gender', 'ip_address',\n",
       "       'Full Name'],\n",
       "      dtype='object')"
      ]
     },
     "execution_count": 53,
     "metadata": {},
     "output_type": "execute_result"
    }
   ],
   "source": [
    "df.columns"
   ]
  },
  {
   "cell_type": "code",
   "execution_count": null,
   "id": "d493fb38-b154-4d5b-a5e3-42aa402c1ed4",
   "metadata": {},
   "outputs": [],
   "source": []
  }
 ],
 "metadata": {
  "kernelspec": {
   "display_name": "Python 3 (ipykernel)",
   "language": "python",
   "name": "python3"
  },
  "language_info": {
   "codemirror_mode": {
    "name": "ipython",
    "version": 3
   },
   "file_extension": ".py",
   "mimetype": "text/x-python",
   "name": "python",
   "nbconvert_exporter": "python",
   "pygments_lexer": "ipython3",
   "version": "3.9.12"
  }
 },
 "nbformat": 4,
 "nbformat_minor": 5
}
